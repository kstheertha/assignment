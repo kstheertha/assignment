{
  "cells": [
    {
      "cell_type": "code",
      "execution_count": null,
      "id": "864ff266",
      "metadata": {
        "id": "864ff266"
      },
      "outputs": [],
      "source": [
        "import mysql.connector\n",
        "connection=mysql.connector.connect(host ='localhost',user='root',password='',database='library')\n",
        "cursor = connection.cursor()\n",
        "connection.commit()\n",
        "import sys"
      ]
    },
    {
      "cell_type": "code",
      "execution_count": null,
      "id": "fc4593fe",
      "metadata": {
        "id": "fc4593fe",
        "outputId": "c9b34939-ca55-46ae-849c-88fc71b19cc2"
      },
      "outputs": [
        {
          "name": "stdout",
          "output_type": "stream",
          "text": [
            "1. Enter the book name:\n",
            "2. view all books:\n",
            "3. search by author name:\n",
            "4. search by genre name:\n",
            "5. price of a given book:\n",
            "6. press 6 to exit:\n",
            "Enter the choice:1\n",
            "Enter the book id:4\n",
            "Enter the book name:ram and anandhi\n",
            "entre the name of author:akhil p dharmajan\n",
            "entre the genre:passion\n",
            "publication?:kerala books\n",
            "Price of thr book:750\n",
            "\n",
            "\n",
            "1. Enter the book name:\n",
            "2. view all books:\n",
            "3. search by author name:\n",
            "4. search by genre name:\n",
            "5. price of a given book:\n",
            "6. press 6 to exit:\n",
            "Enter the choice:2\n",
            "[(1, 'wings of fire', 'apj', 'motivation', 'apj books', 2500), (2, 'chirakodinja kinavukal', 'ramankutty', 'romance', 'mallu books', 2000), (3, 'manjil virinja pookal', 'moidhooty', 'inspirational', 'md books', 550), (4, 'ram and anandhi', 'akhil p dharmajan', 'passion', 'kerala books', 750)]\n",
            "\n",
            "\n",
            "1. Enter the book name:\n",
            "2. view all books:\n",
            "3. search by author name:\n",
            "4. search by genre name:\n",
            "5. price of a given book:\n",
            "6. press 6 to exit:\n",
            "Enter the choice:3\n",
            "enter the author name:apj\n",
            "('wings of fire',)\n",
            "\n",
            "\n",
            "1. Enter the book name:\n",
            "2. view all books:\n",
            "3. search by author name:\n",
            "4. search by genre name:\n",
            "5. price of a given book:\n",
            "6. press 6 to exit:\n",
            "Enter the choice:4\n",
            "enter the genre name:passion\n",
            "('ram and anandhi',)\n",
            "\n",
            "\n",
            "1. Enter the book name:\n",
            "2. view all books:\n",
            "3. search by author name:\n",
            "4. search by genre name:\n",
            "5. price of a given book:\n",
            "6. press 6 to exit:\n",
            "Enter the choice:5\n",
            "enter the book id to know price:3\n",
            "(550,)\n",
            "\n",
            "\n",
            "1. Enter the book name:\n",
            "2. view all books:\n",
            "3. search by author name:\n",
            "4. search by genre name:\n",
            "5. price of a given book:\n",
            "6. press 6 to exit:\n",
            "Enter the choice:6\n"
          ]
        },
        {
          "ename": "SystemExit",
          "evalue": "",
          "output_type": "error",
          "traceback": [
            "An exception has occurred, use %tb to see the full traceback.\n",
            "\u001b[1;31mSystemExit\u001b[0m\n"
          ]
        }
      ],
      "source": [
        "while(True):\n",
        "    print('1. Enter the book name:')\n",
        "    print('2. view all books:')\n",
        "    print('3. search by author name:')\n",
        "    print('4. search by genre name:')\n",
        "    print('5. price of a given book:')\n",
        "    print(\"6. press 6 to exit:\")\n",
        "    choice =int(input(\"Enter the choice:\"))\n",
        "    if choice == 1:\n",
        "        bookid = int(input('Enter the book id:'))\n",
        "        name = input('Enter the book name:')\n",
        "        author = input('entre the name of author:')\n",
        "        genre = input('entre the genre:')\n",
        "        pub = input('publication?:')\n",
        "        price = float(input('Price of the book:'))\n",
        "        query ='insert into mlayalam (book_id,bookname,author,genre,publication,price)values(%s,%s,%s,%s,%s,%s)'\n",
        "        data =(bookid,name,author,genre,pub,price)\n",
        "        cursor.execute(query,data)\n",
        "        connection.commit()\n",
        "        print(\"\\n\")\n",
        "    if choice == 2:\n",
        "        query ='select * from mlayalam'\n",
        "        cursor.execute(query)\n",
        "        result = cursor.fetchall()\n",
        "        print(result)\n",
        "        print(\"\\n\")\n",
        "    if choice == 3:\n",
        "        name = input('enter the author name:')\n",
        "        query = 'select bookname from mlayalam where author like \"%{}\"'.format(name)\n",
        "        cursor.execute(query)\n",
        "        result=cursor.fetchone()\n",
        "        print(result)\n",
        "        print(\"\\n\")\n",
        "    if choice == 4:\n",
        "        gname = input('enter the genre name:')\n",
        "        query = 'select bookname from mlayalam where genre like \"%{}\"'.format(gname)\n",
        "        cursor.execute(query)\n",
        "        result=cursor.fetchone()\n",
        "        print(result)\n",
        "        print(\"\\n\")\n",
        "    if choice == 5:\n",
        "        price = input('enter the book id to know price:')\n",
        "        query = 'select price from mlayalam where book_id like \"%{}\"'.format(price)\n",
        "        cursor.execute(query)\n",
        "        result=cursor.fetchone()\n",
        "        print(result)\n",
        "        print(\"\\n\")\n",
        "    if choice == 6:\n",
        "        sys.exit();\n",
        "connection.close()\n",
        "\n",
        ""
      ]
    },
    {
      "cell_type": "markdown",
      "id": "5ddd2f63",
      "metadata": {
        "id": "5ddd2f63"
      },
      "source": []
    }
  ],
  "metadata": {
    "kernelspec": {
      "display_name": "Python 3 (ipykernel)",
      "language": "python",
      "name": "python3"
    },
    "language_info": {
      "codemirror_mode": {
        "name": "ipython",
        "version": 3
      },
      "file_extension": ".py",
      "mimetype": "text/x-python",
      "name": "python",
      "nbconvert_exporter": "python",
      "pygments_lexer": "ipython3",
      "version": "3.9.13"
    },
    "colab": {
      "provenance": []
    }
  },
  "nbformat": 4,
  "nbformat_minor": 5
}